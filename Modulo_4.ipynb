{
  "nbformat": 4,
  "nbformat_minor": 0,
  "metadata": {
    "colab": {
      "name": "Copia de modulo 4.ipynb",
      "provenance": [],
      "collapsed_sections": [
        "UnVQ75Gz3GkM",
        "CtAMacFd7qOP",
        "5SkhgqGSCX7Z",
        "dVF5nxchMdg-",
        "fsYC2R6GMnnF",
        "q2d6kw3XNkRQ",
        "K3ASKj6tOnas",
        "xHZwF4EJVuP7",
        "9v43SleGkhAh",
        "M3RgdLwtluyF"
      ],
      "include_colab_link": true
    },
    "kernelspec": {
      "name": "python3",
      "display_name": "Python 3"
    },
    "language_info": {
      "name": "python"
    }
  },
  "cells": [
    {
      "cell_type": "markdown",
      "metadata": {
        "id": "view-in-github",
        "colab_type": "text"
      },
      "source": [
        "<a href=\"https://colab.research.google.com/github/fredypauca/Python-Basico-FPM/blob/main/Modulo_4.ipynb\" target=\"_parent\"><img src=\"https://colab.research.google.com/assets/colab-badge.svg\" alt=\"Open In Colab\"/></a>"
      ]
    },
    {
      "cell_type": "markdown",
      "source": [
        "<img src=\"https://www.ctic.uni.edu.pe/wp-content/uploads/2022/04/588px-x-348px-web-1.png\" alt=\"HTML5 Icon\" width=\"900\" height=\"350\" >"
      ],
      "metadata": {
        "id": "atsxxNXNyS0i"
      }
    },
    {
      "cell_type": "markdown",
      "source": [
        "<h1 align=center><font size = 5>UNIDAD IV - ESTRUCTURAS DE DATOS\n",
        "</font></h1>\n",
        "\n",
        "---"
      ],
      "metadata": {
        "id": "4p5vLlhHyXK5"
      }
    },
    {
      "cell_type": "markdown",
      "source": [
        "## Tabla de Contenidos\n",
        "\n",
        "<div class=\"alert alert-block alert-info\" style=\"margin-top: 20px\">\n",
        "\n",
        "<font size = 3>\n",
        "    \n",
        "1. <a href=\"#item31\">Trabajando con Listas numéricas</a>\n",
        "2. <a href=\"#item31\">Trabajando con slices</a>  \n",
        "3. <a href=\"#item31\">Tuplas</a>  \n",
        "4. <a href=\"#item31\">Diccionarios</a>  \n",
        "\n",
        "</font>\n",
        "</div>\n",
        "\n",
        "---"
      ],
      "metadata": {
        "id": "y0BfNj-RyguL"
      }
    },
    {
      "cell_type": "markdown",
      "source": [
        "# 1. Trabajando con Listas numéricas"
      ],
      "metadata": {
        "id": "fY5fHyw61UB5"
      }
    },
    {
      "cell_type": "code",
      "execution_count": null,
      "metadata": {
        "id": "A2OxEnshtGJD"
      },
      "outputs": [],
      "source": [
        "numeros = [1, 2, 3, 4, 5]"
      ]
    },
    {
      "cell_type": "code",
      "source": [
        "numeros"
      ],
      "metadata": {
        "id": "BusmC4LB1gI8",
        "outputId": "433e116d-478b-4599-ceb5-11d938c1593b",
        "colab": {
          "base_uri": "https://localhost:8080/"
        }
      },
      "execution_count": null,
      "outputs": [
        {
          "output_type": "execute_result",
          "data": {
            "text/plain": [
              "[1, 2, 3, 4, 5]"
            ]
          },
          "metadata": {},
          "execution_count": 2
        }
      ]
    },
    {
      "cell_type": "markdown",
      "source": [
        "### Usando la función rango"
      ],
      "metadata": {
        "id": "0GbfBGic15oY"
      }
    },
    {
      "cell_type": "code",
      "source": [
        "range(1, 5)"
      ],
      "metadata": {
        "id": "0CtByQBZ2A3Z",
        "outputId": "7ca9bfe7-49ab-41f0-bf7b-4d85655aa9cb",
        "colab": {
          "base_uri": "https://localhost:8080/"
        }
      },
      "execution_count": null,
      "outputs": [
        {
          "output_type": "execute_result",
          "data": {
            "text/plain": [
              "range(1, 5)"
            ]
          },
          "metadata": {},
          "execution_count": 5
        }
      ]
    },
    {
      "cell_type": "code",
      "source": [
        "list(range(1,5))"
      ],
      "metadata": {
        "id": "6yU-hkoVeCeA",
        "outputId": "7c1fac4a-5adc-4bdb-a726-28324d2dbe47",
        "colab": {
          "base_uri": "https://localhost:8080/"
        }
      },
      "execution_count": null,
      "outputs": [
        {
          "output_type": "execute_result",
          "data": {
            "text/plain": [
              "[1, 2, 3, 4]"
            ]
          },
          "metadata": {},
          "execution_count": 6
        }
      ]
    },
    {
      "cell_type": "code",
      "source": [
        "for value in range(1, 5,2):\n",
        "    print(value)"
      ],
      "metadata": {
        "id": "HluipgiKyPn4",
        "outputId": "37b55141-5ea4-4129-a7c6-18f5b90ed003",
        "colab": {
          "base_uri": "https://localhost:8080/"
        }
      },
      "execution_count": null,
      "outputs": [
        {
          "output_type": "stream",
          "name": "stdout",
          "text": [
            "1\n",
            "3\n"
          ]
        }
      ]
    },
    {
      "cell_type": "code",
      "source": [
        "for value in range(1, 6):\n",
        "    print(value)"
      ],
      "metadata": {
        "id": "gPtNEJGW2Jvo",
        "outputId": "165a0242-a0c7-46c0-98d5-b8b29b5bcdea",
        "colab": {
          "base_uri": "https://localhost:8080/"
        }
      },
      "execution_count": null,
      "outputs": [
        {
          "output_type": "stream",
          "name": "stdout",
          "text": [
            "1\n",
            "2\n",
            "3\n",
            "4\n",
            "5\n"
          ]
        }
      ]
    },
    {
      "cell_type": "markdown",
      "source": [
        "### Usando range para crear listas de números"
      ],
      "metadata": {
        "id": "KKwKZnLy2XpE"
      }
    },
    {
      "cell_type": "code",
      "source": [
        "numbers = list(range(1, 6))\n",
        "print(numbers)"
      ],
      "metadata": {
        "id": "UBobqcAl2bLs",
        "outputId": "5671b917-1a69-4ff0-9146-d5a1ed88e567",
        "colab": {
          "base_uri": "https://localhost:8080/"
        }
      },
      "execution_count": null,
      "outputs": [
        {
          "output_type": "stream",
          "name": "stdout",
          "text": [
            "[1, 2, 3, 4, 5]\n"
          ]
        }
      ]
    },
    {
      "cell_type": "code",
      "source": [
        "even_numbers = list(range(2, 11, 2))\n",
        "print(even_numbers)"
      ],
      "metadata": {
        "id": "q0peFV6_2iqr"
      },
      "execution_count": null,
      "outputs": []
    },
    {
      "cell_type": "code",
      "source": [
        "squares = []\n",
        "\n",
        "for value in range(1, 11):\n",
        "    square = value ** 2\n",
        "    squares.append(square)\n",
        "    \n",
        "print(squares)"
      ],
      "metadata": {
        "id": "B9Hv0maM2mnU",
        "outputId": "962ba8d1-5cc8-444f-dedf-2bd44f1e5494",
        "colab": {
          "base_uri": "https://localhost:8080/"
        }
      },
      "execution_count": null,
      "outputs": [
        {
          "output_type": "stream",
          "name": "stdout",
          "text": [
            "[1, 4, 9, 16, 25, 36, 49, 64, 81, 100]\n"
          ]
        }
      ]
    },
    {
      "cell_type": "code",
      "source": [
        "squares = []\n",
        "\n",
        "for value in range(1,11):\n",
        "    squares.append(value**2)\n",
        "    \n",
        "print(squares)"
      ],
      "metadata": {
        "id": "nIx-oVSe273S",
        "outputId": "64954728-4702-411b-f4e1-6f84ee9497e8",
        "colab": {
          "base_uri": "https://localhost:8080/"
        }
      },
      "execution_count": null,
      "outputs": [
        {
          "output_type": "stream",
          "name": "stdout",
          "text": [
            "[1, 4, 9, 16, 25, 36, 49, 64, 81, 100]\n"
          ]
        }
      ]
    },
    {
      "cell_type": "markdown",
      "source": [
        "### Estadísticos sencillos de listas"
      ],
      "metadata": {
        "id": "UnVQ75Gz3GkM"
      }
    },
    {
      "cell_type": "code",
      "source": [
        "digits = [1, 2, 3, 4, 5, 6, 7, 8, 9, 0]"
      ],
      "metadata": {
        "id": "HcLwRAdU3Jy8"
      },
      "execution_count": null,
      "outputs": []
    },
    {
      "cell_type": "code",
      "source": [
        "min(digits)"
      ],
      "metadata": {
        "id": "arSK6kOr3Nwg",
        "outputId": "1db50493-612b-4707-9c92-344283100e73",
        "colab": {
          "base_uri": "https://localhost:8080/"
        }
      },
      "execution_count": null,
      "outputs": [
        {
          "output_type": "execute_result",
          "data": {
            "text/plain": [
              "0"
            ]
          },
          "metadata": {},
          "execution_count": 15
        }
      ]
    },
    {
      "cell_type": "code",
      "source": [
        "max(digits)"
      ],
      "metadata": {
        "id": "z13AFiLo3Pyr",
        "outputId": "ba09dd48-197f-4bf4-f321-e43b40ac417f",
        "colab": {
          "base_uri": "https://localhost:8080/"
        }
      },
      "execution_count": null,
      "outputs": [
        {
          "output_type": "execute_result",
          "data": {
            "text/plain": [
              "9"
            ]
          },
          "metadata": {},
          "execution_count": 16
        }
      ]
    },
    {
      "cell_type": "code",
      "source": [
        "sum(digits)"
      ],
      "metadata": {
        "id": "VE_QfNBq3SIY",
        "outputId": "b2bc2c45-4699-442c-83f2-6ed7ab0cd10b",
        "colab": {
          "base_uri": "https://localhost:8080/"
        }
      },
      "execution_count": null,
      "outputs": [
        {
          "output_type": "execute_result",
          "data": {
            "text/plain": [
              "45"
            ]
          },
          "metadata": {},
          "execution_count": 17
        }
      ]
    },
    {
      "cell_type": "markdown",
      "source": [
        "### List Comprehensions\n"
      ],
      "metadata": {
        "id": "H68897kt3Xan"
      }
    },
    {
      "cell_type": "code",
      "source": [
        "squares = [value**2 for value in range(1, 11)]\n",
        "print(squares)"
      ],
      "metadata": {
        "id": "1iXCqqK43Yrq",
        "outputId": "0493a88b-8ba1-4f64-8ef1-60fa253e97e6",
        "colab": {
          "base_uri": "https://localhost:8080/"
        }
      },
      "execution_count": null,
      "outputs": [
        {
          "output_type": "stream",
          "name": "stdout",
          "text": [
            "[1, 4, 9, 16, 25, 36, 49, 64, 81, 100]\n"
          ]
        }
      ]
    },
    {
      "cell_type": "code",
      "source": [
        "squares = [value-2 for value in range(1, 11)]\n",
        "print(squares)"
      ],
      "metadata": {
        "id": "gKMI81hNhZ4I",
        "outputId": "8ee6fa05-d0b9-49c5-c8a6-d96514dd761c",
        "colab": {
          "base_uri": "https://localhost:8080/"
        }
      },
      "execution_count": null,
      "outputs": [
        {
          "output_type": "stream",
          "name": "stdout",
          "text": [
            "[-1, 0, 1, 2, 3, 4, 5, 6, 7, 8]\n"
          ]
        }
      ]
    },
    {
      "cell_type": "markdown",
      "source": [
        "---\n",
        "\n",
        "<b> Ejercicio 1</b>\n",
        "\n",
        "use un bucle **for** para imprimir los números del 1 al 20, inclusive.\n"
      ],
      "metadata": {
        "id": "v8l2iiax3w6L"
      }
    },
    {
      "cell_type": "code",
      "source": [
        "numbers = list(range(1, 21))\n",
        "print(numbers)"
      ],
      "metadata": {
        "id": "Cr-1J0Bshtb7",
        "outputId": "1bd114b7-97de-48d3-fc75-1fc6cf2c189b",
        "colab": {
          "base_uri": "https://localhost:8080/"
        }
      },
      "execution_count": null,
      "outputs": [
        {
          "output_type": "stream",
          "name": "stdout",
          "text": [
            "[1, 2, 3, 4, 5, 6, 7, 8, 9, 10, 11, 12, 13, 14, 15, 16, 17, 18, 19, 20]\n"
          ]
        }
      ]
    },
    {
      "cell_type": "code",
      "source": [
        "for value in range(1, 21):\n",
        "    print(value)"
      ],
      "metadata": {
        "id": "DvmfxAhcjDza",
        "outputId": "9bd33fa0-4f98-46e7-d31f-cc3225da39ed",
        "colab": {
          "base_uri": "https://localhost:8080/"
        }
      },
      "execution_count": null,
      "outputs": [
        {
          "output_type": "stream",
          "name": "stdout",
          "text": [
            "1\n",
            "2\n",
            "3\n",
            "4\n",
            "5\n",
            "6\n",
            "7\n",
            "8\n",
            "9\n",
            "10\n",
            "11\n",
            "12\n",
            "13\n",
            "14\n",
            "15\n",
            "16\n",
            "17\n",
            "18\n",
            "19\n",
            "20\n"
          ]
        }
      ]
    },
    {
      "cell_type": "markdown",
      "source": [
        "---\n",
        "\n",
        "<b> Ejercicio 2</b>\n",
        "\n",
        "Haga una lista de los números del uno al millón y luego use un ciclo for para imprimir los números. (Si la salida tarda demasiado, deténgala presionando CTRL-C o cerrando la ventana de salida).\n"
      ],
      "metadata": {
        "id": "rYzzJUd64HR1"
      }
    },
    {
      "cell_type": "code",
      "source": [
        "for value in range(1, 10):\n",
        "    print(value)"
      ],
      "metadata": {
        "id": "SNSnfUF8i4Hz",
        "outputId": "fb1c9bb5-65f8-49a9-d283-fa0566aa2775",
        "colab": {
          "base_uri": "https://localhost:8080/"
        }
      },
      "execution_count": null,
      "outputs": [
        {
          "output_type": "stream",
          "name": "stdout",
          "text": [
            "1\n",
            "2\n",
            "3\n",
            "4\n",
            "5\n",
            "6\n",
            "7\n",
            "8\n",
            "9\n"
          ]
        }
      ]
    },
    {
      "cell_type": "markdown",
      "source": [
        "---\n",
        "\n",
        "<b> Ejercicio 3</b>\n",
        "\n",
        "Haga una lista de los números del uno al millón y luego use min() y max() para asegurarse de que su lista realmente comience en uno y termine en un millón. Además, use la función sum() para ver qué tan rápido Python puede agregar un millón de números.\n"
      ],
      "metadata": {
        "id": "2qrKdPpb4chR"
      }
    },
    {
      "cell_type": "code",
      "source": [
        "numbers = list(range(1, 1000001))"
      ],
      "metadata": {
        "id": "z_h9Blt2ln9p"
      },
      "execution_count": null,
      "outputs": []
    },
    {
      "cell_type": "code",
      "source": [
        "sum(numbers)"
      ],
      "metadata": {
        "id": "EW2MaMgulzqu",
        "outputId": "c7936732-cdcf-4fd1-d23b-7a5f65b2d44c",
        "colab": {
          "base_uri": "https://localhost:8080/"
        }
      },
      "execution_count": null,
      "outputs": [
        {
          "output_type": "execute_result",
          "data": {
            "text/plain": [
              "500000500000"
            ]
          },
          "metadata": {},
          "execution_count": 28
        }
      ]
    },
    {
      "cell_type": "markdown",
      "source": [
        "---\n",
        "\n",
        "<b> Ejercicio 4</b>\n",
        "\n",
        "Use el tercer argumento de la función range() para hacer una lista de los números impares del 1 al 20. Use un bucle for para imprimir cada número.\n"
      ],
      "metadata": {
        "id": "oizdiWqQ44qx"
      }
    },
    {
      "cell_type": "code",
      "source": [
        "numbers = list(range(1, 21,2))\n",
        "print(numbers)"
      ],
      "metadata": {
        "id": "qQaPSNiQmf4C",
        "outputId": "d1629ebe-6cae-4aab-f66e-565c9bb36a12",
        "colab": {
          "base_uri": "https://localhost:8080/"
        }
      },
      "execution_count": null,
      "outputs": [
        {
          "output_type": "stream",
          "name": "stdout",
          "text": [
            "[1, 3, 5, 7, 9, 11, 13, 15, 17, 19]\n"
          ]
        }
      ]
    },
    {
      "cell_type": "markdown",
      "source": [
        "---\n",
        "\n",
        "<b> Ejercicio 5</b>\n",
        "\n",
        "Haga una lista de los múltiplos de 3 de 3 a 30. Use un ciclo for para imprimir los números en su lista.\n"
      ],
      "metadata": {
        "id": "yK9dmJJi5W6W"
      }
    },
    {
      "cell_type": "code",
      "source": [
        "numbers = list(range(3, 31,3))\n",
        "print(numbers)"
      ],
      "metadata": {
        "id": "1NujpqR2nqEv",
        "outputId": "50464ae6-9ecc-4ea7-a389-46f7be61afde",
        "colab": {
          "base_uri": "https://localhost:8080/"
        }
      },
      "execution_count": null,
      "outputs": [
        {
          "output_type": "stream",
          "name": "stdout",
          "text": [
            "[3, 6, 9, 12, 15, 18, 21, 24, 27, 30]\n"
          ]
        }
      ]
    },
    {
      "cell_type": "code",
      "source": [
        "number = list(range(3, 31))\n",
        "for impar in number:\n",
        "  if impar%3==0:\n",
        "    print(f\"{impar}\")\n"
      ],
      "metadata": {
        "id": "Urby3bCYoBH_",
        "outputId": "9f7f6101-dd4b-4afc-f1e1-2a02b52530ae",
        "colab": {
          "base_uri": "https://localhost:8080/"
        }
      },
      "execution_count": null,
      "outputs": [
        {
          "output_type": "stream",
          "name": "stdout",
          "text": [
            "3\n",
            "6\n",
            "9\n",
            "12\n",
            "15\n",
            "18\n",
            "21\n",
            "24\n",
            "27\n",
            "30\n"
          ]
        }
      ]
    },
    {
      "cell_type": "code",
      "source": [
        "lista=[]\n",
        "for i in range(3,31):\n",
        "  if i%3==0:\n",
        "    lista.append(i)\n",
        "for a in lista:\n",
        "  print(a)\n"
      ],
      "metadata": {
        "colab": {
          "base_uri": "https://localhost:8080/"
        },
        "id": "Jo2M2WU-r21y",
        "outputId": "4cfc57d7-2802-4d23-e494-91e230ac78b1"
      },
      "execution_count": null,
      "outputs": [
        {
          "output_type": "stream",
          "name": "stdout",
          "text": [
            "3\n",
            "6\n",
            "9\n",
            "12\n",
            "15\n",
            "18\n",
            "21\n",
            "24\n",
            "27\n",
            "30\n"
          ]
        }
      ]
    },
    {
      "cell_type": "markdown",
      "source": [
        "---\n",
        "\n",
        "<b> Ejercicio 6</b>\n",
        "\n",
        "Haga una lista de los primeros 10 cubos (es decir, el cubo de cada número entero del 1 al 10) y use un ciclo for para imprimir el valor de cada cubo.\n"
      ],
      "metadata": {
        "id": "qqdPT25k5d23"
      }
    },
    {
      "cell_type": "code",
      "source": [
        "squares = [value**3 for value in range(1, 11)]\n",
        "print(squares)"
      ],
      "metadata": {
        "colab": {
          "base_uri": "https://localhost:8080/"
        },
        "id": "l9WDtDtlsLRs",
        "outputId": "7da557e0-0282-4fe6-fee6-585564e87521"
      },
      "execution_count": null,
      "outputs": [
        {
          "output_type": "stream",
          "name": "stdout",
          "text": [
            "[1, 8, 27, 64, 125, 216, 343, 512, 729, 1000]\n"
          ]
        }
      ]
    },
    {
      "cell_type": "markdown",
      "source": [
        "---\n",
        "\n",
        "<b> Ejercicio 7</b>\n",
        "\n",
        "Use una lista de comprensión para generar una lista de los primeros 10 cubos.\n",
        "\n",
        "---"
      ],
      "metadata": {
        "id": "MQfhaTOo59GS"
      }
    },
    {
      "cell_type": "markdown",
      "source": [
        "# 2. Trabajando con slices"
      ],
      "metadata": {
        "id": "-h_22RYJ6U9R"
      }
    },
    {
      "cell_type": "markdown",
      "source": [
        "### Slice"
      ],
      "metadata": {
        "id": "pEWaaEih67Yz"
      }
    },
    {
      "cell_type": "code",
      "source": [
        "players = ['charles', 'martina', 'michael', 'florence', 'eli']\n",
        "print(players[0:3])\n"
      ],
      "metadata": {
        "id": "OaraZKkC41r_",
        "colab": {
          "base_uri": "https://localhost:8080/"
        },
        "outputId": "89479ab7-17a5-48ab-900f-3adc6876d416"
      },
      "execution_count": null,
      "outputs": [
        {
          "output_type": "stream",
          "name": "stdout",
          "text": [
            "['charles', 'martina', 'michael']\n"
          ]
        }
      ]
    },
    {
      "cell_type": "code",
      "source": [
        "print(players[1:4])"
      ],
      "metadata": {
        "id": "rsh7DhJd7Zek",
        "colab": {
          "base_uri": "https://localhost:8080/"
        },
        "outputId": "396aeeb3-ef03-4174-e879-4dccc2f1b4a6"
      },
      "execution_count": null,
      "outputs": [
        {
          "output_type": "stream",
          "name": "stdout",
          "text": [
            "['martina', 'michael', 'florence']\n"
          ]
        }
      ]
    },
    {
      "cell_type": "code",
      "source": [
        "print(players[:4])"
      ],
      "metadata": {
        "id": "PcO-p-IS7cs4",
        "colab": {
          "base_uri": "https://localhost:8080/"
        },
        "outputId": "336afc5d-d9b4-4c83-a5fc-2e5ae2ce749f"
      },
      "execution_count": null,
      "outputs": [
        {
          "output_type": "stream",
          "name": "stdout",
          "text": [
            "['charles', 'martina', 'michael', 'florence']\n"
          ]
        }
      ]
    },
    {
      "cell_type": "code",
      "source": [
        "print(players[2:])"
      ],
      "metadata": {
        "id": "eFiNncoN7gej",
        "colab": {
          "base_uri": "https://localhost:8080/"
        },
        "outputId": "6bc0b207-b115-48ab-c52e-a2daf68bcd40"
      },
      "execution_count": null,
      "outputs": [
        {
          "output_type": "stream",
          "name": "stdout",
          "text": [
            "['michael', 'florence', 'eli']\n"
          ]
        }
      ]
    },
    {
      "cell_type": "code",
      "source": [
        "print(players[-3:])"
      ],
      "metadata": {
        "id": "JjOgBbXy7krV",
        "colab": {
          "base_uri": "https://localhost:8080/"
        },
        "outputId": "a93cd9f0-8cf2-4e33-cd79-8ef068983578"
      },
      "execution_count": null,
      "outputs": [
        {
          "output_type": "stream",
          "name": "stdout",
          "text": [
            "['michael', 'florence', 'eli']\n"
          ]
        }
      ]
    },
    {
      "cell_type": "markdown",
      "source": [
        "### Loop a través de un slice"
      ],
      "metadata": {
        "id": "CtAMacFd7qOP"
      }
    },
    {
      "cell_type": "code",
      "source": [
        "players = ['charles', 'martina', 'michael', 'florence', 'eli']\n",
        "\n",
        "print(\"Estos son los tres primeros jugadores del equipo:\")\n",
        "for player in players[:3]:\n",
        "    print(player.title())"
      ],
      "metadata": {
        "id": "uB10K-mq7vi-"
      },
      "execution_count": null,
      "outputs": []
    },
    {
      "cell_type": "markdown",
      "source": [
        "### Copiando una lista"
      ],
      "metadata": {
        "id": "jsCWYHQC8Faa"
      }
    },
    {
      "cell_type": "code",
      "source": [
        "my_foods = ['pizza', 'falafel', 'carrot cake']\n",
        "friend_foods = my_foods[:]"
      ],
      "metadata": {
        "id": "x8Vk1ehE8I21"
      },
      "execution_count": null,
      "outputs": []
    },
    {
      "cell_type": "code",
      "source": [
        "print(\"Mis platillos favoritos son:\")\n",
        "print(my_foods)"
      ],
      "metadata": {
        "id": "z0LWVPBd8SCK",
        "colab": {
          "base_uri": "https://localhost:8080/"
        },
        "outputId": "21993ad1-0ecf-4b8c-f52e-f3383d4c7bae"
      },
      "execution_count": null,
      "outputs": [
        {
          "output_type": "stream",
          "name": "stdout",
          "text": [
            "Mis platillos favoritos son:\n",
            "['pizza', 'falafel', 'carrot cake']\n"
          ]
        }
      ]
    },
    {
      "cell_type": "code",
      "source": [
        "print(\"\\nMis platillos favoritos son:\")\n",
        "print(friend_foods)"
      ],
      "metadata": {
        "id": "WwwjEoWS8bcG"
      },
      "execution_count": null,
      "outputs": []
    },
    {
      "cell_type": "code",
      "source": [
        "my_foods.append('cannoli')\n",
        "friend_foods.append('ice cream')\n"
      ],
      "metadata": {
        "id": "722i5Iju865m"
      },
      "execution_count": null,
      "outputs": []
    },
    {
      "cell_type": "code",
      "source": [
        "print(\"Mis platillos favoritos son:\")\n",
        "print(my_foods)"
      ],
      "metadata": {
        "id": "WrvMdmk59CJ3"
      },
      "execution_count": null,
      "outputs": []
    },
    {
      "cell_type": "code",
      "source": [
        "print(\"\\nMis platillos favoritos son:\")\n",
        "print(friend_foods)"
      ],
      "metadata": {
        "id": "IUCV_DlY9DuC"
      },
      "execution_count": null,
      "outputs": []
    },
    {
      "cell_type": "markdown",
      "source": [
        "---\n",
        "\n",
        "<b> Ejercicio 1</b>\n",
        "\n",
        "Utilizando alguna lista definida anteriormente:\n",
        "\n",
        "*   Imprima el mensaje **Los tres primeros elementos de la lista son:**. Luego use un slice para imprimir los primeros tres elementos de la lista de ese programa.\n",
        "\n",
        "*   Imprima el mensaje **Tres elementos de la mitad de la lista son:**. Use un slice para imprimir tres elementos del medio de la lista.\n",
        "\n",
        "*   Imprima el mensaje **Los últimos tres elementos de la lista son:**. Utilice un slice para imprimir los últimos tres elementos de la lista."
      ],
      "metadata": {
        "id": "H30p04iC93Ma"
      }
    },
    {
      "cell_type": "code",
      "source": [
        "print(f\"Los tres primeros elemenos de la lista son :\\n\\t{my_foods[0:3]}\")\n"
      ],
      "metadata": {
        "colab": {
          "base_uri": "https://localhost:8080/"
        },
        "id": "9azKAsuXxc5S",
        "outputId": "f9b945bd-e49c-4985-cf7a-8c6561070d87"
      },
      "execution_count": null,
      "outputs": [
        {
          "output_type": "stream",
          "name": "stdout",
          "text": [
            "Los tres primeros elemenos de la lista son :\n",
            "\t['pizza', 'falafel', 'carrot cake']\n"
          ]
        }
      ]
    },
    {
      "cell_type": "markdown",
      "source": [
        "---\n",
        "\n",
        "<b> Ejercicio 2</b>\n",
        "\n",
        "Haga una copia de la lista de pizzas y llámela friend_pizzas. Luego, haz lo siguiente:\n",
        "\n",
        "* Agregue una nueva pizza a la lista original.\n",
        "* Agrega una pizza diferente a la lista friend_pizzas.\n",
        "* Demuestra que tienes dos listas separadas. Imprima el mensaje Mis pizzas favoritas son: y luego use un bucle for para imprimir la primera lista. Imprima el mensaje Las pizzas favoritas de mi amigo son: y luego use un bucle for para imprimir la segunda lista. Asegúrese de que cada pizza nueva se almacene en la lista adecuada."
      ],
      "metadata": {
        "id": "0SzOQQ7S_s1U"
      }
    },
    {
      "cell_type": "code",
      "source": [
        "pizzas = ['cuatro estaciones', 'hawaiana', 'pepperoni', 'romana', 'napolitana']\n",
        "friend_pizzas = pizzas[:]\n",
        "\n",
        "pizzas.append('margarita')\n",
        "friend_pizzas.append('ranchera')\n",
        "print(pizzas)\n",
        "print(friend_pizzas)\n",
        "\n",
        "print(\"\\nMis pizzas favoritas son:\")\n",
        "for i in pizzas:\n",
        "    print(i.title())\n",
        "\n",
        "print(\"\\nLas pizzas favoritas de mi amigo son:\")\n",
        "for i in friend_pizzas:\n",
        "    print(i.title())\n"
      ],
      "metadata": {
        "id": "Si51cmPA2uR2",
        "outputId": "aa9dfd9a-ee46-4968-f3e9-748177e84e34",
        "colab": {
          "base_uri": "https://localhost:8080/"
        }
      },
      "execution_count": null,
      "outputs": [
        {
          "output_type": "stream",
          "name": "stdout",
          "text": [
            "['cuatro estaciones', 'hawaiana', 'pepperoni', 'romana', 'napolitana', 'margarita']\n",
            "['cuatro estaciones', 'hawaiana', 'pepperoni', 'romana', 'napolitana', 'ranchera']\n",
            "\n",
            "Mis pizzas favoritas son:\n",
            "Cuatro Estaciones\n",
            "Hawaiana\n",
            "Pepperoni\n",
            "Romana\n",
            "Napolitana\n",
            "Margarita\n",
            "\n",
            "Las pizzas favoritas de mi amigo son:\n",
            "Cuatro Estaciones\n",
            "Hawaiana\n",
            "Pepperoni\n",
            "Romana\n",
            "Napolitana\n",
            "Ranchera\n"
          ]
        }
      ]
    },
    {
      "cell_type": "markdown",
      "source": [
        "# 3. Tuplas"
      ],
      "metadata": {
        "id": "qXYwCDghBHAx"
      }
    },
    {
      "cell_type": "code",
      "source": [
        "dimensions = (200, 50)"
      ],
      "metadata": {
        "id": "umIk-vrP_sXx"
      },
      "execution_count": null,
      "outputs": []
    },
    {
      "cell_type": "code",
      "source": [
        "print(dimensions[0])"
      ],
      "metadata": {
        "id": "adBx3YWqB1xF"
      },
      "execution_count": null,
      "outputs": []
    },
    {
      "cell_type": "code",
      "source": [
        "print(dimensions[1])"
      ],
      "metadata": {
        "id": "EXHXNGfoB54Y"
      },
      "execution_count": null,
      "outputs": []
    },
    {
      "cell_type": "code",
      "source": [
        "dimensions[0] = 250"
      ],
      "metadata": {
        "id": "CiUL-aB3CJMx"
      },
      "execution_count": null,
      "outputs": []
    },
    {
      "cell_type": "markdown",
      "source": [
        "### Loops a traves de una Tupla"
      ],
      "metadata": {
        "id": "5SkhgqGSCX7Z"
      }
    },
    {
      "cell_type": "code",
      "source": [
        "dimensions = (200, 50)\n",
        "for dimension in dimensions:\n",
        "    print(dimension)"
      ],
      "metadata": {
        "id": "N9sSXtO3CoPp"
      },
      "execution_count": null,
      "outputs": []
    },
    {
      "cell_type": "markdown",
      "source": [
        "### Modificando una tupla"
      ],
      "metadata": {
        "id": "y-nYJPBwC5jg"
      }
    },
    {
      "cell_type": "code",
      "source": [
        "print(\"Dimensiones originales:\")\n",
        "for dimension in dimensions:\n",
        "    print(dimension)"
      ],
      "metadata": {
        "colab": {
          "base_uri": "https://localhost:8080/"
        },
        "id": "ze8gyArPCz0Z",
        "outputId": "e9c73e82-4d41-4ba0-8746-90d226708027"
      },
      "execution_count": null,
      "outputs": [
        {
          "output_type": "stream",
          "name": "stdout",
          "text": [
            "Dimensiones originales:\n",
            "400\n",
            "100\n"
          ]
        }
      ]
    },
    {
      "cell_type": "code",
      "source": [
        "dimensions = (400, 100)\n",
        "print(\"\\nModified dimensions:\")\n",
        "for dimension in dimensions:\n",
        "  print(dimension)"
      ],
      "metadata": {
        "id": "9Ej9n7-9C_Jc",
        "colab": {
          "base_uri": "https://localhost:8080/"
        },
        "outputId": "192f076b-e88a-4bea-d455-9cc2c96f575a"
      },
      "execution_count": null,
      "outputs": [
        {
          "output_type": "stream",
          "name": "stdout",
          "text": [
            "\n",
            "Modified dimensions:\n",
            "400\n",
            "100\n"
          ]
        }
      ]
    },
    {
      "cell_type": "markdown",
      "source": [
        "---\n",
        "\n",
        "<b> Ejercicio 1</b>\n",
        "\n",
        "Un restaurante estilo buffet ofrece solo cinco alimentos básicos. Piense en cinco alimentos simples y guárdelos en una tupla.\n",
        "\n",
        "* Use un bucle for para imprimir cada comida que ofrece el restaurante.\n",
        "Intente modificar uno de los elementos y asegúrese de que Python rechace el cambio.\n",
        "* El restaurante cambia su menú, reemplazando dos de los artículos con comidas diferentes. Agregue una línea que reescriba la tupla y luego use un ciclo for para imprimir cada uno de los elementos en el menú revisado.\n",
        "\n",
        "---"
      ],
      "metadata": {
        "id": "WHk9FL9lDtBY"
      }
    },
    {
      "cell_type": "code",
      "source": [
        "buffet = ('Ceviche','Chicharrón de chancho.','Rocoto Relleno.','Lomo Saltado','Pollo al horno')\n",
        "print(\"\\n los Alimentos Basicos son:\")\n",
        "for b in buffet:\n",
        "  print(f'-{b}')\n"
      ],
      "metadata": {
        "colab": {
          "base_uri": "https://localhost:8080/"
        },
        "id": "WcglE0-IiYgR",
        "outputId": "52d04be8-990b-4551-a99e-8e19e698e630"
      },
      "execution_count": null,
      "outputs": [
        {
          "output_type": "stream",
          "name": "stdout",
          "text": [
            "\n",
            " los Alimentos Basicos son:\n",
            "-Ceviche\n",
            "-Chicharrón de chancho.\n",
            "-Rocoto Relleno.\n",
            "-Lomo Saltado\n",
            "-Pollo al horno\n"
          ]
        }
      ]
    },
    {
      "cell_type": "code",
      "source": [
        "alimentos = (\"Tallarines\",\"Lomo Saltado\",\"Ceviche\",\"Pollo al Horno\",\"Arroz con Pollo\")\n",
        "for alimento in alimentos:\n",
        "  print(alimento)\n"
      ],
      "metadata": {
        "colab": {
          "base_uri": "https://localhost:8080/"
        },
        "id": "LhTgWtWJjra5",
        "outputId": "de25e745-2f29-427b-8d21-f2a15058bcf8"
      },
      "execution_count": null,
      "outputs": [
        {
          "output_type": "stream",
          "name": "stdout",
          "text": [
            "Tallarines\n",
            "Lomo Saltado\n",
            "Ceviche\n",
            "Pollo al Horno\n",
            "Arroz con Pollo\n"
          ]
        }
      ]
    },
    {
      "cell_type": "code",
      "source": [
        "alimentos = (\"Tallarines\",\"Lomo Saltado\",\"Ceviche\",\"Postre I\",\"Postre II\")\n",
        "for alimento in alimentos:\n",
        "  print(alimento)\n"
      ],
      "metadata": {
        "colab": {
          "base_uri": "https://localhost:8080/"
        },
        "id": "OpKPcKa6kGBX",
        "outputId": "0620e3c3-1dff-456a-9900-f383477c1379"
      },
      "execution_count": null,
      "outputs": [
        {
          "output_type": "stream",
          "name": "stdout",
          "text": [
            "Tallarines\n",
            "Lomo Saltado\n",
            "Ceviche\n",
            "Postre I\n",
            "Postre II\n"
          ]
        }
      ]
    },
    {
      "cell_type": "markdown",
      "source": [
        "# 4. Diccionarios"
      ],
      "metadata": {
        "id": "BZTa7B8LFrIG"
      }
    },
    {
      "cell_type": "markdown",
      "source": [
        "### Un diccionario simple"
      ],
      "metadata": {
        "id": "CK7WpabLGUxg"
      }
    },
    {
      "cell_type": "code",
      "source": [
        "alien_0 = {'color': 'green', 'points': 5}\n",
        "\n",
        "print(alien_0['color'])\n",
        "print(alien_0['points'])"
      ],
      "metadata": {
        "id": "1LBNlCbNH7If",
        "colab": {
          "base_uri": "https://localhost:8080/"
        },
        "outputId": "7f90157c-4003-414b-e6c0-8f186b78f278"
      },
      "execution_count": null,
      "outputs": [
        {
          "output_type": "stream",
          "name": "stdout",
          "text": [
            "green\n",
            "5\n"
          ]
        }
      ]
    },
    {
      "cell_type": "markdown",
      "source": [
        "### Trabajando con diccionarios"
      ],
      "metadata": {
        "id": "9leFQDy1H-90"
      }
    },
    {
      "cell_type": "code",
      "source": [
        "alien_0 = {'color': 'green'}\n",
        "\n",
        "print(alien_0['color'])"
      ],
      "metadata": {
        "id": "BN2xEdrkK2bk",
        "colab": {
          "base_uri": "https://localhost:8080/"
        },
        "outputId": "12dd61b8-6f41-42e4-e608-2612c52ccc1b"
      },
      "execution_count": null,
      "outputs": [
        {
          "output_type": "stream",
          "name": "stdout",
          "text": [
            "green\n"
          ]
        }
      ]
    },
    {
      "cell_type": "code",
      "source": [
        "alien_0 = {'color': 'green', 'points': 5}\n",
        "\n",
        "new_points = alien_0['points']\n",
        "print(f\"Acabas de ganar {new_points} puntos!\")"
      ],
      "metadata": {
        "id": "R4beHSA3LISl",
        "colab": {
          "base_uri": "https://localhost:8080/"
        },
        "outputId": "8662be03-a080-425c-c1fe-c503abe04430"
      },
      "execution_count": null,
      "outputs": [
        {
          "output_type": "stream",
          "name": "stdout",
          "text": [
            "Acabas de ganar 5 puntos!\n"
          ]
        }
      ]
    },
    {
      "cell_type": "markdown",
      "source": [
        "### Agregando nuevos pares Key-Value"
      ],
      "metadata": {
        "id": "5hqxo8XZLn1q"
      }
    },
    {
      "cell_type": "code",
      "source": [
        "alien_0 = {'color': 'green', 'points': 5}\n",
        "print(alien_0)\n",
        "\n",
        "alien_0['x_position'] = 0\n",
        "alien_0['y_position'] = 25\n",
        "print(alien_0)"
      ],
      "metadata": {
        "id": "oznLSM29L4fq",
        "colab": {
          "base_uri": "https://localhost:8080/"
        },
        "outputId": "a343f408-24a3-4370-e602-c95b03dae684"
      },
      "execution_count": null,
      "outputs": [
        {
          "output_type": "stream",
          "name": "stdout",
          "text": [
            "{'color': 'green', 'points': 5}\n",
            "{'color': 'green', 'points': 5, 'x_position': 0, 'y_position': 25}\n"
          ]
        }
      ]
    },
    {
      "cell_type": "markdown",
      "source": [
        "### Comenzando con un diccionario vacio"
      ],
      "metadata": {
        "id": "dVF5nxchMdg-"
      }
    },
    {
      "cell_type": "code",
      "source": [
        "alien_0 = {}\n",
        "\n",
        "alien_0['color'] = 'green'\n",
        "alien_0['points'] = 5\n",
        "\n",
        "print(alien_0)"
      ],
      "metadata": {
        "id": "9tlTgbesMhSZ"
      },
      "execution_count": null,
      "outputs": []
    },
    {
      "cell_type": "markdown",
      "source": [
        "### Modificando valores de un diccionario"
      ],
      "metadata": {
        "id": "fsYC2R6GMnnF"
      }
    },
    {
      "cell_type": "code",
      "source": [
        "alien_0 = {'color': 'verde'}\n",
        "print(f\"El alien es {alien_0['color']}.\")\n",
        "\n",
        "alien_0['color'] = 'amarillo'\n",
        "print(f\"El alien ahora es {alien_0['color']}.\")\n"
      ],
      "metadata": {
        "id": "TlHsOz42Mszc"
      },
      "execution_count": null,
      "outputs": []
    },
    {
      "cell_type": "code",
      "source": [
        "alien_0 = {'x_position': 0, 'y_position': 25, 'speed': 'medium'}\n",
        "print(f\"Original position: {alien_0['x_position']}\")\n",
        "\n",
        "if alien_0['speed'] == 'slow':\n",
        "  x_increment = 1\n",
        "elif alien_0['speed'] == 'medium':\n",
        "  x_increment = 2\n",
        "else:\n",
        "  x_increment = 3\n",
        "\n",
        "alien_0['x_position'] = alien_0['x_position'] + x_increment\n",
        "print(f\"New position: {alien_0['x_position']}\")\n"
      ],
      "metadata": {
        "id": "7t-om1JhM951"
      },
      "execution_count": null,
      "outputs": []
    },
    {
      "cell_type": "markdown",
      "source": [
        "### Removiendo pares Key-Value"
      ],
      "metadata": {
        "id": "q2d6kw3XNkRQ"
      }
    },
    {
      "cell_type": "code",
      "source": [
        "alien_0 = {'color': 'green', 'points': 5}\n",
        "print(alien_0)\n",
        "\n",
        "del alien_0['points']\n",
        "print(alien_0)\n"
      ],
      "metadata": {
        "id": "ZQwVkViANor0"
      },
      "execution_count": null,
      "outputs": []
    },
    {
      "cell_type": "markdown",
      "source": [
        "### Un diccionario de objetos similares"
      ],
      "metadata": {
        "id": "K3ASKj6tOnas"
      }
    },
    {
      "cell_type": "code",
      "source": [
        "favorite_languages = {\n",
        "    'jen': 'python',\n",
        "    'sarah': 'c++',\n",
        "    'edward': 'ruby',\n",
        "    'phil': 'python',\n",
        "    }"
      ],
      "metadata": {
        "id": "9x9FJQp0Oqrj"
      },
      "execution_count": null,
      "outputs": []
    },
    {
      "cell_type": "code",
      "source": [
        "language = favorite_languages['sarah']\n",
        "print(f\"El lenguaje favorito de Sarah es {language}.\")"
      ],
      "metadata": {
        "id": "Vl4peHpEOvAo"
      },
      "execution_count": null,
      "outputs": []
    },
    {
      "cell_type": "code",
      "source": [
        "favorite_languages['sarah']"
      ],
      "metadata": {
        "id": "xKCA_j2UO5eC"
      },
      "execution_count": null,
      "outputs": []
    },
    {
      "cell_type": "markdown",
      "source": [
        "### Usando get() para acceder a los valores"
      ],
      "metadata": {
        "id": "hHVI1fmuO_7v"
      }
    },
    {
      "cell_type": "code",
      "source": [
        "alien_0 = {'color': 'green', 'speed': 'slow'}\n",
        "print(alien_0['points'])"
      ],
      "metadata": {
        "id": "CEStOn5DPOo_"
      },
      "execution_count": null,
      "outputs": []
    },
    {
      "cell_type": "code",
      "source": [
        "alien_0.get('color')"
      ],
      "metadata": {
        "id": "1OOz1_tNPr6b"
      },
      "execution_count": null,
      "outputs": []
    },
    {
      "cell_type": "code",
      "source": [
        "point_value = alien_0.get('points', 'No point value assigned.')\n",
        "print(point_value)"
      ],
      "metadata": {
        "id": "jSYYU2MxPVmd"
      },
      "execution_count": null,
      "outputs": []
    },
    {
      "cell_type": "code",
      "source": [
        "alien_0.get('points', 'No point value assigned.')"
      ],
      "metadata": {
        "id": "msUlArzMPqQK"
      },
      "execution_count": null,
      "outputs": []
    },
    {
      "cell_type": "markdown",
      "source": [
        "---\n",
        "\n",
        "<b> Ejercicio 1</b>\n",
        "\n",
        "Usa un diccionario para almacenar información sobre una persona que conoces. Almacene su nombre, apellido, edad y la ciudad en la que vive. Debe tener claves como nombre, apellido, edad y ciudad. Imprima cada parte de información almacenada en su diccionario.\n",
        "\n"
      ],
      "metadata": {
        "id": "ctXa-OLlQaXn"
      }
    },
    {
      "cell_type": "code",
      "source": [
        "persona = {'nombre': 'Eduardo', 'apellido': 'Vega', 'edad': 32, 'ciudad': 'Lima'}\n",
        "\n",
        "print(persona['nombre'])\n",
        "print(persona['apellido'])\n",
        "print(persona['edad'])\n",
        "print(persona['ciudad'])\n"
      ],
      "metadata": {
        "colab": {
          "base_uri": "https://localhost:8080/"
        },
        "id": "OD1_9A2ZrbLR",
        "outputId": "d6a0e178-5d17-4c30-e21b-7c7b80b5707b"
      },
      "execution_count": null,
      "outputs": [
        {
          "output_type": "stream",
          "name": "stdout",
          "text": [
            "Eduardo\n",
            "Vega\n",
            "32\n",
            "Lima\n"
          ]
        }
      ]
    },
    {
      "cell_type": "markdown",
      "source": [
        "---\n",
        "\n",
        "<b> Ejercicio 2</b>\n",
        "\n",
        "Use un diccionario para almacenar los números favoritos de las personas. Piensa en cinco nombres y utilízalos como llaves en tu diccionario. Piense en un número favorito para cada persona y guárdelo como un valor en su diccionario. Escriba el nombre de cada persona y su número favorito. \n",
        "\n"
      ],
      "metadata": {
        "id": "7_krS5iiQ7KW"
      }
    },
    {
      "cell_type": "markdown",
      "source": [
        "---\n",
        "\n",
        "<b> Ejercicio 3</b>\n",
        "\n",
        "Piense en cinco palabras de programación que haya aprendido. Utilice estas palabras como llaves en su glosario y almacene sus significados como valores.\n",
        "\n",
        "Imprima cada palabra y su significado como una salida con un formato ordenado. Puede imprimir la palabra seguida de dos puntos y luego su significado, o imprimir la palabra en una línea y luego imprimir su significado con sangría en una segunda línea. Utilice el carácter de nueva línea (\\n) para insertar una línea en blanco entre cada par de palabra y significado en su salida.\n",
        "\n",
        "---"
      ],
      "metadata": {
        "id": "PmMzWA-nVOOi"
      }
    },
    {
      "cell_type": "markdown",
      "source": [
        "### Loops con diccionarios"
      ],
      "metadata": {
        "id": "xHZwF4EJVuP7"
      }
    },
    {
      "cell_type": "code",
      "source": [
        "user_0 = {\n",
        "    'username': 'efermi',\n",
        "    'first': 'enrico',\n",
        "    'last': 'fermi',\n",
        "    }"
      ],
      "metadata": {
        "id": "Nhs0f6CEQ6np"
      },
      "execution_count": null,
      "outputs": []
    },
    {
      "cell_type": "code",
      "source": [
        "for key, value in user_0.items():\n",
        "    print(f\"\\nKey: {key}\")\n",
        "    print(f\"Value: {value}\")"
      ],
      "metadata": {
        "id": "Q1m7T12eV3XJ"
      },
      "execution_count": null,
      "outputs": []
    },
    {
      "cell_type": "code",
      "source": [
        "for name, language in favorite_languages.items():\n",
        "  print(f\"El lenguaje favorito de {name} es {language}.\")"
      ],
      "metadata": {
        "id": "AanKmbfWWFCn"
      },
      "execution_count": null,
      "outputs": []
    },
    {
      "cell_type": "code",
      "source": [
        "for name in sorted(favorite_languages.keys()):\n",
        "    print(f\"{name.title()}, gracias por tomar la encuesta.)"
      ],
      "metadata": {
        "id": "C2PjJC4rjbgB"
      },
      "execution_count": null,
      "outputs": []
    },
    {
      "cell_type": "markdown",
      "source": [
        "---\n",
        "\n",
        "<b> Ejercicio 1</b>\n",
        "\n",
        "Haga un diccionario que contenga tres ríos principales y el país por el que pasa cada río. Un par clave-valor podría ser 'nilo': 'egipto'.\n",
        "\n",
        "* Use un bucle para imprimir una oración sobre cada río, como El Nilo atraviesa Egipto.\n",
        "* Utilice un bucle para imprimir el nombre de cada río incluido en el diccionario.\n",
        "* Use un bucle para imprimir el nombre de cada país incluido en el diccionario.\n"
      ],
      "metadata": {
        "id": "Ov6u5MxIj2WA"
      }
    },
    {
      "cell_type": "markdown",
      "source": [
        "---\n",
        "\n",
        "<b> Ejercicio 2</b>\n",
        "\n",
        "Haz una lista de las personas que deberían participar en la encuesta de idiomas favoritos. Incluye algunos nombres que ya estén en el diccionario y otros que no.\n",
        "Recorra la lista de personas que deberían realizar la encuesta. Si ya han realizado la encuesta, imprima un mensaje agradeciéndoles por responder. Si aún no han realizado la encuesta, imprima un mensaje invitándoles a realizar la encuesta.\n",
        "\n",
        "---"
      ],
      "metadata": {
        "id": "aSr26WfmkSSv"
      }
    },
    {
      "cell_type": "markdown",
      "source": [
        "### Lista de diccionarios"
      ],
      "metadata": {
        "id": "9v43SleGkhAh"
      }
    },
    {
      "cell_type": "code",
      "source": [
        "alien_0 = {'color': 'green', 'points': 5}\n",
        "alien_1 = {'color': 'yellow', 'points': 10}\n",
        "alien_2 = {'color': 'red', 'points': 15}\n",
        "\n",
        "aliens = [alien_0, alien_1, alien_2]\n",
        "\n",
        "for alien in aliens:\n",
        "  print(alien)"
      ],
      "metadata": {
        "id": "scvK9Q9bkRy0"
      },
      "execution_count": null,
      "outputs": []
    },
    {
      "cell_type": "code",
      "source": [
        "aliens = []\n",
        "\n",
        "# Make 30 green aliens.\n",
        "for alien_number in range(30):\n",
        "    new_alien = {'color': 'green', 'points': 5, 'speed': 'slow'}\n",
        "    aliens.append(new_alien)\n",
        "\n",
        "# Show the first 5 aliens.\n",
        "for alien in aliens[:5]:\n",
        "    print(alien)\n",
        "print(\"...\")\n",
        "\n",
        "# Show how many aliens have been created.\n",
        "print(f\"Total number of aliens: {len(aliens)}\")\n"
      ],
      "metadata": {
        "id": "fVooKiRtkufd"
      },
      "execution_count": null,
      "outputs": []
    },
    {
      "cell_type": "code",
      "source": [
        "aliens = []\n",
        "\n",
        "# Make 30 green aliens.\n",
        "for alien_number in range(30):\n",
        "    new_alien = {'color': 'green', 'points': 5, 'speed': 'slow'}\n",
        "    aliens.append(new_alien)\n",
        "\n",
        "for alien in aliens[:3]:\n",
        "    if alien['color'] == 'green':\n",
        "        alien['color'] = 'yellow'\n",
        "        alien['speed'] = 'medium'\n",
        "        alien['points'] = 10\n",
        "\n",
        "# Show the first 5 aliens.\n",
        "for alien in aliens[:5]:\n",
        "    print(alien)\n",
        "print(\"...\")\n",
        "\n",
        "# Show how many aliens have been created.\n",
        "print(f\"Total number of aliens: {len(aliens)}\")"
      ],
      "metadata": {
        "id": "pAwmoRu5k6CR"
      },
      "execution_count": null,
      "outputs": []
    },
    {
      "cell_type": "code",
      "source": [
        "aliens = []\n",
        "\n",
        "# Make 30 green aliens.\n",
        "for alien_number in range(30):\n",
        "  new_alien = {'color': 'green', 'points': 5, 'speed': 'slow'}\n",
        "  aliens.append(new_alien)\n",
        "\n",
        "for alien in aliens[:3]:\n",
        "  if alien['color'] == 'green':\n",
        "    alien['color'] = 'yellow'\n",
        "    alien['speed'] = 'medium'\n",
        "    alien['points'] = 10\n",
        "        \n",
        "  elif alien['color'] == 'yellow':\n",
        "    alien['color'] = 'red'\n",
        "    alien['speed'] = 'fast'\n",
        "    alien['points'] = 15\n",
        "\n",
        "# Show the first 5 aliens.\n",
        "for alien in aliens[:5]:\n",
        "    print(alien)\n",
        "print(\"...\")\n",
        "\n",
        "# Show how many aliens have been created.\n",
        "print(f\"Total number of aliens: {len(aliens)}\")"
      ],
      "metadata": {
        "id": "g8Q_Btd6lFDn"
      },
      "execution_count": null,
      "outputs": []
    },
    {
      "cell_type": "markdown",
      "source": [
        "### Una lista en un diccionario"
      ],
      "metadata": {
        "id": "M3RgdLwtluyF"
      }
    },
    {
      "cell_type": "code",
      "source": [
        "# Store information about a pizza being ordered.\n",
        "pizza = {\n",
        "         'crust': 'thick',\n",
        "         'toppings': ['mushrooms', 'extra cheese'],\n",
        "        }\n",
        "\n",
        "# Summarize the order.\n",
        "print(f\"You ordered a {pizza['crust']}-crust pizza \"\n",
        "  \"with the following toppings:\")\n",
        "\n",
        "for topping in pizza['toppings']:\n",
        "  print(f\"\\t{topping}\")"
      ],
      "metadata": {
        "id": "1awTpHiplzaH"
      },
      "execution_count": null,
      "outputs": []
    },
    {
      "cell_type": "code",
      "source": [
        "favorite_languages = {\n",
        "       'jen': ['python', 'ruby'],\n",
        "       'sarah': ['c'],\n",
        "       'edward': ['ruby', 'go'],\n",
        "       'phil': ['python', 'haskell'],\n",
        "       }\n",
        "\n",
        "for name, languages in favorite_languages.items():\n",
        "  print(f\"\\n{name}'s favorite languages are:\")\n",
        "\n",
        "  for language in languages:\n",
        "    print(f\"\\t{language}\")\n"
      ],
      "metadata": {
        "id": "tXuoOkfgmLVF"
      },
      "execution_count": null,
      "outputs": []
    },
    {
      "cell_type": "markdown",
      "source": [
        "---\n",
        "\n",
        "<b> Ejercicio 1</b>\n",
        "\n",
        "Cree tres nuevos diccionarios que representen a diferentes personas y almacene los tres diccionarios en una lista llamada personas. Recorra su lista de personas. Mientras recorre la lista, imprima todo lo que sabe sobre cada persona.\n"
      ],
      "metadata": {
        "id": "3JJTjbfhmwks"
      }
    },
    {
      "cell_type": "markdown",
      "source": [
        "---\n",
        "\n",
        "<b> Ejercicio 2</b>\n",
        "\n",
        "Haga varios diccionarios, donde cada diccionario represente una mascota diferente. En cada diccionario, incluya el tipo de animal y el nombre del dueño. Guarde estos diccionarios en una lista llamada mascotas. A continuación, recorra su lista y, mientras lo hace, imprima todo lo que sepa sobre cada mascota."
      ],
      "metadata": {
        "id": "oU2XiQHAnAtB"
      }
    },
    {
      "cell_type": "markdown",
      "source": [
        "---\n",
        "\n",
        "<b> Ejercicio 3</b>\n",
        "\n",
        "Haga un diccionario llamado lugares_favoritos. Piense en tres nombres para usar como llaves en el diccionario y almacene de uno a tres lugares favoritos para cada persona. Recorre el diccionario e imprime el nombre de cada persona y sus lugares favoritos."
      ],
      "metadata": {
        "id": "YH2BoPpVnMLu"
      }
    },
    {
      "cell_type": "markdown",
      "source": [
        "---\n",
        "\n",
        "<b> Ejercicio 4</b>\n",
        "\n",
        "Haz un diccionario llamado ciudades. Usa los nombres de tres ciudades como llaves en tu diccionario. Cree un diccionario de información sobre cada ciudad e incluya el país en el que se encuentra la ciudad, su población aproximada y un dato sobre esa ciudad. Las claves para el diccionario de cada ciudad deben ser algo como país, población y hecho. Imprime el nombre de cada ciudad y toda la información que tengas almacenada sobre ella."
      ],
      "metadata": {
        "id": "YjkTHXHWnY-y"
      }
    },
    {
      "cell_type": "markdown",
      "source": [
        "---\n",
        "\n",
        "<b> Ejercicio 5</b>\n",
        "\n",
        "Ahora estamos trabajando con ejemplos que son lo suficientemente complejos como para que puedan extenderse de varias maneras. Utilice uno de los programas de este laboratorio y amplíelo agregando nuevas claves y valores, cambiando el contexto del programa o mejorando el formato de la salida.\n",
        "\n",
        "---"
      ],
      "metadata": {
        "id": "hMvNIar-nqAr"
      }
    },
    {
      "cell_type": "markdown",
      "source": [
        "---\n",
        "\n",
        "# Gracias por completar este laboratorio!\n",
        "\n",
        "---\n"
      ],
      "metadata": {
        "id": "LY_03M0BoJZQ"
      }
    }
  ]
}